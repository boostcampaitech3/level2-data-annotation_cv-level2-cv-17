{
 "cells": [
  {
   "cell_type": "code",
   "execution_count": 2,
   "metadata": {},
   "outputs": [],
   "source": [
    "import os\n",
    "import json"
   ]
  },
  {
   "cell_type": "markdown",
   "metadata": {},
   "source": [
    "### 야외 글자 데이터 (korean_outside)\n",
    "- 샘플 데이터(1140장)을 사용했습니다.\n",
    "- 샘플 데이터는 json이 통합되지 않고, 이미지 개수만큼 존재하기 때문에 for문으로 하나씩 합쳐주는 작업이 필요함"
   ]
  },
  {
   "cell_type": "code",
   "execution_count": 2,
   "metadata": {},
   "outputs": [],
   "source": [
    "file_data = dict()\n",
    "file_data[\"images\"] = dict()\n",
    "\n",
    "# 이미지 경로\n",
    "# path에 ai hub 이미지 데이터 경로를 적어주세요.\n",
    "path = './korean_outside_images'\n",
    "file_list = os.listdir(path)"
   ]
  },
  {
   "cell_type": "code",
   "execution_count": null,
   "metadata": {},
   "outputs": [],
   "source": [
    "#저장할 사진의 json파일 열기\n",
    "for name in file_list:\n",
    "    temp = dict() # temp에 정보들을 넣어서 최종적으로 ufo로 바꿀 예정\n",
    "\n",
    "    # 확장자가 jpg, JPG 2가지로 구성됨\n",
    "    j_name = name.replace('.JPG','.json')\n",
    "    j_name = j_name.replace('.jpg','.json')\n",
    "\n",
    "    # address : ai hub json 파일이 있는 경로\n",
    "    address = './korean_outside_json/' + j_name\n",
    "    with open(address,'r', encoding='UTF8') as f:\n",
    "        json_data = json.load(f)\n",
    "        \n",
    "        temp[\"img_h\"] = json_data[\"images\"][0][\"height\"]\n",
    "        temp[\"img_w\"] = json_data[\"images\"][0][\"width\"]\n",
    "        temp[\"words\"] = dict()\n",
    "        \n",
    "        i = 0\n",
    "        for ann in json_data[\"annotations\"]:\n",
    "            if(len(ann[\"bbox\"])!=4):\n",
    "                continue\n",
    "            \n",
    "            x,y,w,h = ann[\"bbox\"]\n",
    "            if ann[\"bbox\"][0] is None:\n",
    "                continue \n",
    "                \n",
    "            temp[\"words\"][i] = {\n",
    "                \"transcription\":ann[\"text\"],\n",
    "                \"language\": [\"ko\"]}\n",
    "            \n",
    "            if ann[\"text\"] == \"xxx\":\n",
    "                temp[\"words\"][i][\"illegibility\"]=True\n",
    "            else:\n",
    "                temp[\"words\"][i][\"illegibility\"]=False\n",
    "           \n",
    "\n",
    "            if json_data[\"metadata\"][0][\"wordorientation\"] == \"가로\":\n",
    "                temp[\"words\"][i][\"orientation\"] = \"Horizontal\"\n",
    "            elif json_data[\"metadata\"][0][\"wordorientation\"] == \"세로\":\n",
    "                temp[\"words\"][i][\"orientation\"] = \"Vertical\"\n",
    "            else:\n",
    "                temp[\"words\"][i][\"orientation\"] = \"Irregular\"\n",
    "\n",
    "            point = [[x,y],\n",
    "                     [x+w,y],\n",
    "                     [x+w,y+h],\n",
    "                     [x,y+h]]\n",
    "            temp[\"words\"][i][\"points\"] = point\n",
    "            temp[\"words\"][i][\"word_tags\"]=None\n",
    "            i+=1\n",
    "         \n",
    "    file_data[\"images\"][name] = temp"
   ]
  },
  {
   "cell_type": "code",
   "execution_count": 7,
   "metadata": {},
   "outputs": [],
   "source": [
    "# ufo json 저장할 경로\n",
    "file_path = 'new_ufo.json'\n",
    "\n",
    "with open(file_path, 'w') as f:   # annotation 내용을 원하는 디렉토리에 저장\n",
    "    json.dump(file_data, f, indent=4)"
   ]
  },
  {
   "cell_type": "markdown",
   "metadata": {},
   "source": [
    "### Text in Wild\n",
    "- 가로, 세로 정보가 없음\n",
    "- 야외 한글 데이터에는 'xxx' 데이터가 있었지만, text in wild에서는 None 데이터가 존재함\n",
    "\n",
    "- 샘플 데이터 없고, 이미지 용량이 너무 커서 서버가 터짐 (일단 중단함)"
   ]
  },
  {
   "cell_type": "code",
   "execution_count": 12,
   "metadata": {},
   "outputs": [
    {
     "data": {
      "text/plain": [
       "{'id': '00000003',\n",
       " 'image_id': '00000001',\n",
       " 'text': '과',\n",
       " 'attributes': {'class': 'character'},\n",
       " 'bbox': [877, 274, 91, 93]}"
      ]
     },
     "execution_count": 12,
     "metadata": {},
     "output_type": "execute_result"
    }
   ],
   "source": [
    "with open('/opt/ml/input/data/AIHUB/text_in_wild/textinthewild_data_info.json','r', encoding='UTF8') as f:\n",
    "        json_data = json.load(f)\n",
    "\n",
    "json_data['annotations'][2]"
   ]
  },
  {
   "cell_type": "code",
   "execution_count": null,
   "metadata": {},
   "outputs": [],
   "source": []
  }
 ],
 "metadata": {
  "interpreter": {
   "hash": "d4d1e4263499bec80672ea0156c357c1ee493ec2b1c70f0acce89fc37c4a6abe"
  },
  "kernelspec": {
   "display_name": "Python 3.8.5 ('base')",
   "language": "python",
   "name": "python3"
  },
  "language_info": {
   "codemirror_mode": {
    "name": "ipython",
    "version": 3
   },
   "file_extension": ".py",
   "mimetype": "text/x-python",
   "name": "python",
   "nbconvert_exporter": "python",
   "pygments_lexer": "ipython3",
   "version": "3.8.5"
  },
  "orig_nbformat": 4
 },
 "nbformat": 4,
 "nbformat_minor": 2
}
